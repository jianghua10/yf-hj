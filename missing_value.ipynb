{
 "cells": [
  {
   "cell_type": "code",
   "execution_count": 1,
   "id": "53317d63",
   "metadata": {},
   "outputs": [],
   "source": [
    "import pandas as pd"
   ]
  },
  {
   "cell_type": "code",
   "execution_count": 2,
   "id": "12974737",
   "metadata": {
    "scrolled": true
   },
   "outputs": [
    {
     "name": "stdout",
     "output_type": "stream",
     "text": [
      "        序号               提交答卷时间    所用时间  来源  来源详情                    来自IP  \\\n",
      "0        1  2021-05-12 17:33:49     627  微信   NaN    118.133.51.49(上海-上海)   \n",
      "1        2    2021/5/1510:47:26     644  微信   NaN    101.86.73.101(上海-上海)   \n",
      "2        3  2021-05-20 19:59:18    1227  链接  直接访问   222.73.152.162(上海-上海)   \n",
      "3        4  2021-05-20 20:34:07     813  微信   NaN   222.73.152.246(上海-上海)   \n",
      "4        5  2021-05-20 20:39:11     415  微信   NaN   101.93.216.119(上海-上海)   \n",
      "...    ...                  ...     ...  ..   ...                     ...   \n",
      "6813  z179  2021-05-29 15:32:06    606秒  微信   NaN   117.136.120.45(上海-上海)   \n",
      "6814  z180  2021-05-29 16:20:47   1189秒  微信   NaN   183.193.123.48(上海-上海)   \n",
      "6815  z181  2021-05-30 12:04:07    843秒  微信   NaN    101.88.141.28(上海-上海)   \n",
      "6816  z182  2021-05-30 15:06:56  15442秒  链接  直接访问  223.104.192.216(山东-东营)   \n",
      "6817  z183  2021-05-30 23:53:25    614秒  微信   NaN    101.87.125.52(上海-上海)   \n",
      "\n",
      "      1. 您的性别是： 2. 您的年龄是:  3. 您的职称是:  4. 您的原始学历(学位)是:  ...  2.1 您认为心理健康重要吗？  \\\n",
      "0             1        49          4                2  ...                1   \n",
      "1             2        48          3                3  ...                1   \n",
      "2             2        51          3                3  ...                1   \n",
      "3             2        51          3                3  ...                1   \n",
      "4             2        35          3                3  ...                1   \n",
      "...         ...       ...        ...              ...  ...              ...   \n",
      "6813          1        46          4                3  ...                1   \n",
      "6814          2        60          5                3  ...                1   \n",
      "6815          1        55          4                3  ...                1   \n",
      "6816          1        49          4                5  ...                1   \n",
      "6817          2        33          3                4  ...                1   \n",
      "\n",
      "      2.2 您1心理咨询或精神治疗吗？  2.3 您1抑郁症、焦虑症等常见心理问题吗？  2.4 您在出现消极情绪时，通常是怎么处理的？（可多选）  \\\n",
      "0                     2                       3                         2&3&4   \n",
      "1                     3                       3                       1&2&3&4   \n",
      "2                     3                       1                           1&2   \n",
      "3                     1                       1                       2&3&4&5   \n",
      "4                     3                       1                         2&3&4   \n",
      "...                 ...                     ...                           ...   \n",
      "6813                  1                       1                             5   \n",
      "6814                  1                       1                           1&4   \n",
      "6815                  1                       1                       1&2&3&4   \n",
      "6816                  1                       1                       1&2&3&4   \n",
      "6817                  3                       3                           3&4   \n",
      "\n",
      "     2.5如果周围有人患有心理疾病，您会如何做? 3.1 如果开展心理健康方面的服务，您需要哪些内容的服务？（可多选）  \\\n",
      "0                         1                              1&2&3   \n",
      "1                         1                          1&2&3&4&5   \n",
      "2                         1                            1&2&3&4   \n",
      "3                         1                            1&2&3&4   \n",
      "4                         1                          1&2&3&4&5   \n",
      "...                     ...                                ...   \n",
      "6813                      1                                  2   \n",
      "6814                      1                                  3   \n",
      "6815                      1                              1&2&3   \n",
      "6816                      1                                  3   \n",
      "6817                      1                          1&2&3&4&5   \n",
      "\n",
      "     3.2 如果开展心理健康方面的服务，您需要哪些形式的服务？(可多选)  3.3 如果出现心理状况不佳的情况，您12愿意接受心理咨询？  \\\n",
      "0                                     2                               3   \n",
      "1                                 1&2&3                               1   \n",
      "2                                 1&2&3                               1   \n",
      "3                                 1&2&3                               1   \n",
      "4                                   1&2                               1   \n",
      "...                                 ...                             ...   \n",
      "6813                                  2                               1   \n",
      "6814                                  1                               3   \n",
      "6815                              1&2&3                               1   \n",
      "6816                                  2                               1   \n",
      "6817                              1&2&3                               1   \n",
      "\n",
      "      3.4 如果出现较为严重的心理问题，您12愿意接受专业医院的精神治疗？  总分  \n",
      "0                                       1  43  \n",
      "1                                       1  33  \n",
      "2                                       1  36  \n",
      "3                                       1  34  \n",
      "4                                       1  45  \n",
      "...                                   ...  ..  \n",
      "6813                                    1  53  \n",
      "6814                                    1  60  \n",
      "6815                                    1  17  \n",
      "6816                                    1  33  \n",
      "6817                                    1  64  \n",
      "\n",
      "[6818 rows x 139 columns]\n"
     ]
    }
   ],
   "source": [
    "df = pd.read_excel(r'C:\\1_毕业论文\\3_数据清洗\\数字化答案_静安教师心理健康调查数据（含校外机构）.xlsx',sheet_name='修正数据3')\n",
    "print(df)"
   ]
  },
  {
   "cell_type": "code",
   "execution_count": 3,
   "id": "7558f50c",
   "metadata": {},
   "outputs": [
    {
     "data": {
      "text/plain": [
       "序号                                     False\n",
       "提交答卷时间                                 False\n",
       "所用时间                                   False\n",
       "来源                                     False\n",
       "来源详情                                    True\n",
       "                                       ...  \n",
       "3.1 如果开展心理健康方面的服务，您需要哪些内容的服务？（可多选）     False\n",
       "3.2 如果开展心理健康方面的服务，您需要哪些形式的服务？(可多选)     False\n",
       "3.3 如果出现心理状况不佳的情况，您12愿意接受心理咨询？         False\n",
       "3.4 如果出现较为严重的心理问题，您12愿意接受专业医院的精神治疗？    False\n",
       "总分                                     False\n",
       "Length: 139, dtype: bool"
      ]
     },
     "execution_count": 3,
     "metadata": {},
     "output_type": "execute_result"
    }
   ],
   "source": [
    "#判断各变量中是否存在缺失值\n",
    "df.isnull().any(axis = 0)"
   ]
  },
  {
   "cell_type": "code",
   "execution_count": 4,
   "id": "190269e4",
   "metadata": {},
   "outputs": [
    {
     "data": {
      "text/plain": [
       "序号                                        0\n",
       "提交答卷时间                                    0\n",
       "所用时间                                      0\n",
       "来源                                        0\n",
       "来源详情                                   5762\n",
       "                                       ... \n",
       "3.1 如果开展心理健康方面的服务，您需要哪些内容的服务？（可多选）        0\n",
       "3.2 如果开展心理健康方面的服务，您需要哪些形式的服务？(可多选)        0\n",
       "3.3 如果出现心理状况不佳的情况，您12愿意接受心理咨询？            0\n",
       "3.4 如果出现较为严重的心理问题，您12愿意接受专业医院的精神治疗？       0\n",
       "总分                                        0\n",
       "Length: 139, dtype: int64"
      ]
     },
     "execution_count": 4,
     "metadata": {},
     "output_type": "execute_result"
    }
   ],
   "source": [
    "# 各变量中缺失值的数量\n",
    "df.isnull().sum(axis = 0)"
   ]
  },
  {
   "cell_type": "code",
   "execution_count": 5,
   "id": "4462fb7d",
   "metadata": {},
   "outputs": [
    {
     "data": {
      "text/plain": [
       "0.001026694045174538"
      ]
     },
     "execution_count": 5,
     "metadata": {},
     "output_type": "execute_result"
    }
   ],
   "source": [
    "# 各变量中缺失值的比例\n",
    "df.isnull().any().sum()/df.shape[0]"
   ]
  },
  {
   "cell_type": "code",
   "execution_count": 6,
   "id": "783d86eb",
   "metadata": {},
   "outputs": [
    {
     "data": {
      "text/plain": [
       "1.0"
      ]
     },
     "execution_count": 6,
     "metadata": {},
     "output_type": "execute_result"
    }
   ],
   "source": [
    "# 缺失观测的行数\n",
    "df.isnull().any(axis = 1).sum()\n",
    "# 缺失观测的比例\n",
    "df.isnull().any(axis = 1).sum()/df.shape[0]"
   ]
  },
  {
   "cell_type": "code",
   "execution_count": 7,
   "id": "d83daa53",
   "metadata": {},
   "outputs": [
    {
     "name": "stdout",
     "output_type": "stream",
     "text": [
      "                               index  missNum  missRate\n",
      "31  分别为__________，________和_________     6815  0.999560\n",
      "30           年龄分别为________&_________     6454  0.946612\n",
      "16           8.2 您目前主要承担的课程（可多选）：〇高中     6013  0.881930\n",
      "4                               来源详情     5762  0.845116\n",
      "15           8.2 您目前主要承担的课程（可多选）：〇初中     5003  0.733793\n",
      "14           8.2 您目前主要承担的课程（可多选）：〇小学     4226  0.619830\n",
      "29                   年龄为____________     2739  0.401731\n"
     ]
    }
   ],
   "source": [
    "# 变量有缺失值、数目有多少、是什么组合等信息\n",
    "# 统计缺失值数量\n",
    "miss_data= df.isnull().sum().reset_index().rename(columns={0:'missNum'})\n",
    "miss_data['missRate']=miss_data['missNum']/df.shape[0]\n",
    "# 按照缺失率排序显示\n",
    "miss_analy=miss_data[miss_data.missRate>0].sort_values(by='missRate',ascending=False)\n",
    "# miss_analy 存储的是每个变量缺失情况的数据框\n",
    "print(miss_analy)"
   ]
  },
  {
   "cell_type": "code",
   "execution_count": 13,
   "id": "cb844a55",
   "metadata": {},
   "outputs": [],
   "source": [
    "# 缺失值来自多选题：来源详情，课程和多个孩子的年龄\n",
    "# 删除来源详情\n",
    "# 课程使用热编码\n",
    "# 孩子的年龄使用分类 或者 平均值（学龄前，6-18岁，18+）"
   ]
  },
  {
   "cell_type": "code",
   "execution_count": 23,
   "id": "501fd93c",
   "metadata": {},
   "outputs": [
    {
     "ename": "KeyError",
     "evalue": "'来源详情'",
     "output_type": "error",
     "traceback": [
      "\u001b[1;31m---------------------------------------------------------------------------\u001b[0m",
      "\u001b[1;31mKeyError\u001b[0m                                  Traceback (most recent call last)",
      "\u001b[1;32m~\\anaconda3\\lib\\site-packages\\pandas\\core\\indexes\\base.py\u001b[0m in \u001b[0;36mget_loc\u001b[1;34m(self, key, method, tolerance)\u001b[0m\n\u001b[0;32m   3360\u001b[0m             \u001b[1;32mtry\u001b[0m\u001b[1;33m:\u001b[0m\u001b[1;33m\u001b[0m\u001b[1;33m\u001b[0m\u001b[0m\n\u001b[1;32m-> 3361\u001b[1;33m                 \u001b[1;32mreturn\u001b[0m \u001b[0mself\u001b[0m\u001b[1;33m.\u001b[0m\u001b[0m_engine\u001b[0m\u001b[1;33m.\u001b[0m\u001b[0mget_loc\u001b[0m\u001b[1;33m(\u001b[0m\u001b[0mcasted_key\u001b[0m\u001b[1;33m)\u001b[0m\u001b[1;33m\u001b[0m\u001b[1;33m\u001b[0m\u001b[0m\n\u001b[0m\u001b[0;32m   3362\u001b[0m             \u001b[1;32mexcept\u001b[0m \u001b[0mKeyError\u001b[0m \u001b[1;32mas\u001b[0m \u001b[0merr\u001b[0m\u001b[1;33m:\u001b[0m\u001b[1;33m\u001b[0m\u001b[1;33m\u001b[0m\u001b[0m\n",
      "\u001b[1;32m~\\anaconda3\\lib\\site-packages\\pandas\\_libs\\index.pyx\u001b[0m in \u001b[0;36mpandas._libs.index.IndexEngine.get_loc\u001b[1;34m()\u001b[0m\n",
      "\u001b[1;32m~\\anaconda3\\lib\\site-packages\\pandas\\_libs\\index.pyx\u001b[0m in \u001b[0;36mpandas._libs.index.IndexEngine.get_loc\u001b[1;34m()\u001b[0m\n",
      "\u001b[1;32mpandas\\_libs\\hashtable_class_helper.pxi\u001b[0m in \u001b[0;36mpandas._libs.hashtable.PyObjectHashTable.get_item\u001b[1;34m()\u001b[0m\n",
      "\u001b[1;32mpandas\\_libs\\hashtable_class_helper.pxi\u001b[0m in \u001b[0;36mpandas._libs.hashtable.PyObjectHashTable.get_item\u001b[1;34m()\u001b[0m\n",
      "\u001b[1;31mKeyError\u001b[0m: '来源详情'",
      "\nThe above exception was the direct cause of the following exception:\n",
      "\u001b[1;31mKeyError\u001b[0m                                  Traceback (most recent call last)",
      "\u001b[1;32m~\\AppData\\Local\\Temp/ipykernel_27596/2444979650.py\u001b[0m in \u001b[0;36m<module>\u001b[1;34m\u001b[0m\n\u001b[0;32m      1\u001b[0m \u001b[1;31m# df1 = pd.DataFrame(df)\u001b[0m\u001b[1;33m\u001b[0m\u001b[1;33m\u001b[0m\u001b[0m\n\u001b[0;32m      2\u001b[0m \u001b[1;31m# print(df1)\u001b[0m\u001b[1;33m\u001b[0m\u001b[1;33m\u001b[0m\u001b[0m\n\u001b[1;32m----> 3\u001b[1;33m \u001b[1;32mdel\u001b[0m \u001b[0mdf\u001b[0m\u001b[1;33m[\u001b[0m\u001b[1;34m'来源详情'\u001b[0m\u001b[1;33m]\u001b[0m\u001b[1;33m\u001b[0m\u001b[1;33m\u001b[0m\u001b[0m\n\u001b[0m",
      "\u001b[1;32m~\\anaconda3\\lib\\site-packages\\pandas\\core\\generic.py\u001b[0m in \u001b[0;36m__delitem__\u001b[1;34m(self, key)\u001b[0m\n\u001b[0;32m   3961\u001b[0m             \u001b[1;31m# there was no match, this call should raise the appropriate\u001b[0m\u001b[1;33m\u001b[0m\u001b[1;33m\u001b[0m\u001b[0m\n\u001b[0;32m   3962\u001b[0m             \u001b[1;31m# exception:\u001b[0m\u001b[1;33m\u001b[0m\u001b[1;33m\u001b[0m\u001b[0m\n\u001b[1;32m-> 3963\u001b[1;33m             \u001b[0mloc\u001b[0m \u001b[1;33m=\u001b[0m \u001b[0mself\u001b[0m\u001b[1;33m.\u001b[0m\u001b[0maxes\u001b[0m\u001b[1;33m[\u001b[0m\u001b[1;33m-\u001b[0m\u001b[1;36m1\u001b[0m\u001b[1;33m]\u001b[0m\u001b[1;33m.\u001b[0m\u001b[0mget_loc\u001b[0m\u001b[1;33m(\u001b[0m\u001b[0mkey\u001b[0m\u001b[1;33m)\u001b[0m\u001b[1;33m\u001b[0m\u001b[1;33m\u001b[0m\u001b[0m\n\u001b[0m\u001b[0;32m   3964\u001b[0m             \u001b[0mself\u001b[0m\u001b[1;33m.\u001b[0m\u001b[0m_mgr\u001b[0m \u001b[1;33m=\u001b[0m \u001b[0mself\u001b[0m\u001b[1;33m.\u001b[0m\u001b[0m_mgr\u001b[0m\u001b[1;33m.\u001b[0m\u001b[0midelete\u001b[0m\u001b[1;33m(\u001b[0m\u001b[0mloc\u001b[0m\u001b[1;33m)\u001b[0m\u001b[1;33m\u001b[0m\u001b[1;33m\u001b[0m\u001b[0m\n\u001b[0;32m   3965\u001b[0m \u001b[1;33m\u001b[0m\u001b[0m\n",
      "\u001b[1;32m~\\anaconda3\\lib\\site-packages\\pandas\\core\\indexes\\base.py\u001b[0m in \u001b[0;36mget_loc\u001b[1;34m(self, key, method, tolerance)\u001b[0m\n\u001b[0;32m   3361\u001b[0m                 \u001b[1;32mreturn\u001b[0m \u001b[0mself\u001b[0m\u001b[1;33m.\u001b[0m\u001b[0m_engine\u001b[0m\u001b[1;33m.\u001b[0m\u001b[0mget_loc\u001b[0m\u001b[1;33m(\u001b[0m\u001b[0mcasted_key\u001b[0m\u001b[1;33m)\u001b[0m\u001b[1;33m\u001b[0m\u001b[1;33m\u001b[0m\u001b[0m\n\u001b[0;32m   3362\u001b[0m             \u001b[1;32mexcept\u001b[0m \u001b[0mKeyError\u001b[0m \u001b[1;32mas\u001b[0m \u001b[0merr\u001b[0m\u001b[1;33m:\u001b[0m\u001b[1;33m\u001b[0m\u001b[1;33m\u001b[0m\u001b[0m\n\u001b[1;32m-> 3363\u001b[1;33m                 \u001b[1;32mraise\u001b[0m \u001b[0mKeyError\u001b[0m\u001b[1;33m(\u001b[0m\u001b[0mkey\u001b[0m\u001b[1;33m)\u001b[0m \u001b[1;32mfrom\u001b[0m \u001b[0merr\u001b[0m\u001b[1;33m\u001b[0m\u001b[1;33m\u001b[0m\u001b[0m\n\u001b[0m\u001b[0;32m   3364\u001b[0m \u001b[1;33m\u001b[0m\u001b[0m\n\u001b[0;32m   3365\u001b[0m         \u001b[1;32mif\u001b[0m \u001b[0mis_scalar\u001b[0m\u001b[1;33m(\u001b[0m\u001b[0mkey\u001b[0m\u001b[1;33m)\u001b[0m \u001b[1;32mand\u001b[0m \u001b[0misna\u001b[0m\u001b[1;33m(\u001b[0m\u001b[0mkey\u001b[0m\u001b[1;33m)\u001b[0m \u001b[1;32mand\u001b[0m \u001b[1;32mnot\u001b[0m \u001b[0mself\u001b[0m\u001b[1;33m.\u001b[0m\u001b[0mhasnans\u001b[0m\u001b[1;33m:\u001b[0m\u001b[1;33m\u001b[0m\u001b[1;33m\u001b[0m\u001b[0m\n",
      "\u001b[1;31mKeyError\u001b[0m: '来源详情'"
     ]
    }
   ],
   "source": [
    "# df1 = pd.DataFrame(df)\n",
    "# print(df1)\n",
    "del df['来源详情']"
   ]
  },
  {
   "cell_type": "code",
   "execution_count": null,
   "id": "b0b8faea",
   "metadata": {},
   "outputs": [],
   "source": []
  }
 ],
 "metadata": {
  "kernelspec": {
   "display_name": "Python 3 (ipykernel)",
   "language": "python",
   "name": "python3"
  },
  "language_info": {
   "codemirror_mode": {
    "name": "ipython",
    "version": 3
   },
   "file_extension": ".py",
   "mimetype": "text/x-python",
   "name": "python",
   "nbconvert_exporter": "python",
   "pygments_lexer": "ipython3",
   "version": "3.9.7"
  }
 },
 "nbformat": 4,
 "nbformat_minor": 5
}
